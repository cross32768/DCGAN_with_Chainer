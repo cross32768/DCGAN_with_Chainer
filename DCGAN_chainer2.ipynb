{
 "cells": [
  {
   "cell_type": "code",
   "execution_count": 173,
   "metadata": {},
   "outputs": [],
   "source": [
    "from PIL import Image\n",
    "import numpy as np\n",
    "import matplotlib.pyplot as plt\n",
    "import os\n",
    "import math\n",
    "\n",
    "import chainer.functions as F\n",
    "import chainer.links as L\n",
    "from chainer import optimizers, serializers, Variable, dataset, Chain\n",
    "from chainer.datasets import mnist\n",
    "# from chainer.utils import type_check\n",
    "# from chainer import function\n",
    "import chainer"
   ]
  },
  {
   "cell_type": "code",
   "execution_count": 161,
   "metadata": {},
   "outputs": [],
   "source": [
    "nz = 100 # Generatorの元乱数の次元\n",
    "batchsize=100\n",
    "n_epoch=10\n",
    "n_train=20 # ?\n",
    "image_save_interval = 5 # 画像の保存間隔"
   ]
  },
  {
   "cell_type": "code",
   "execution_count": 162,
   "metadata": {},
   "outputs": [],
   "source": [
    "train, test = mnist.get_mnist(withlabel = False) # 取り敢えずmnist\n",
    "# ネットワーク構造の都合上(32,32)にリサイズ\n",
    "train_resized = np.zeros((train.shape[0], 32*32))\n",
    "for i, t in enumerate(train):\n",
    "    img = Image.fromarray(t.reshape(28, 28))\n",
    "    img = img.resize((32,32))\n",
    "    train_resized[i] = np.array(img).flatten()\n",
    "train_resized = train_resized.reshape(train_resized.shape[0], 1, 32, 32).astype(np.float32)\n",
    "# 0～1の範囲に正規化 ←　あってる？\n",
    "train_resized = (train_resized - 0.5) / 0.5"
   ]
  },
  {
   "cell_type": "code",
   "execution_count": 163,
   "metadata": {},
   "outputs": [],
   "source": [
    "# Generatorの定義\n",
    "class Generator(Chain):\n",
    "    def __init__(self):\n",
    "        super(Generator, self).__init__()\n",
    "        with self.init_scope():\n",
    "            self.l0z = L.Linear(nz, 2*2*512, initialW=0.02*math.sqrt(nz))\n",
    "            self.dc1 = L.Deconvolution2D(512, 256, 4, stride=2, pad=1, initialW=0.02*math.sqrt(4*4*512))\n",
    "            self.dc2 = L.Deconvolution2D(256, 128, 4, stride=2, pad=1, initialW=0.02*math.sqrt(4*4*256))\n",
    "            self.dc3 = L.Deconvolution2D(128, 64, 4, stride=2, pad=1, initialW=0.02*math.sqrt(4*4*128))\n",
    "            self.dc4 = L.Deconvolution2D(64, 1, 4, stride=2, pad=1, initialW=0.02*math.sqrt(4*4*64))\n",
    "            self.bn0l = L.BatchNormalization(2*2*512)\n",
    "            self.bn0 = L.BatchNormalization(512)\n",
    "            self.bn1 = L.BatchNormalization(256)\n",
    "            self.bn2 = L.BatchNormalization(128)\n",
    "            self.bn3 = L.BatchNormalization(64)\n",
    "            \n",
    "    def __call__(self, z):\n",
    "        h = F.reshape(F.relu(self.bn0l(self.l0z(z))), (z.data.shape[0], 512, 2, 2))\n",
    "        h = F.relu(self.bn1(self.dc1(h)))\n",
    "        h = F.relu(self.bn2(self.dc2(h)))\n",
    "        h = F.relu(self.bn3(self.dc3(h)))\n",
    "        x = F.tanh(self.dc4(h))\n",
    "        return x"
   ]
  },
  {
   "cell_type": "code",
   "execution_count": 164,
   "metadata": {},
   "outputs": [],
   "source": [
    "class Discriminator(Chain):\n",
    "    def __init__(self):\n",
    "        super(Discriminator, self).__init__()\n",
    "        with self.init_scope():\n",
    "            self.c0 = L.Convolution2D(1, 64, 4, stride=2, pad=1, initialW=0.02*math.sqrt(4*4*1))\n",
    "            self.c1 = L.Convolution2D(64, 128, 4, stride=2, pad=1, initialW=0.02*math.sqrt(4*4*64))\n",
    "            self.c2 = L.Convolution2D(128, 256, 4, stride=2, pad=1, initialW=0.02*math.sqrt(4*4*128))\n",
    "            self.c3 = L.Convolution2D(256, 512, 4, stride=2, pad=1, initialW=0.02*math.sqrt(4*4*256))\n",
    "            self.l4l = L.Linear(2*2*512, 2, initialW=0.02*math.sqrt(6*6*512))\n",
    "            self.bn0 = L.BatchNormalization(64)\n",
    "            self.bn1 = L.BatchNormalization(128)\n",
    "            self.bn2 = L.BatchNormalization(256)\n",
    "            self.bn3 = L.BatchNormalization(512)\n",
    "        \n",
    "    def __call__(self, x):\n",
    "        h = F.relu(self.c0(x))\n",
    "        h = F.relu(self.bn1(self.c1(h)))\n",
    "        h = F.relu(self.bn2(self.c2(h)))\n",
    "        h = F.relu(self.bn3(self.c3(h)))\n",
    "        l = self.l4l(h)\n",
    "        return l"
   ]
  },
  {
   "cell_type": "code",
   "execution_count": 165,
   "metadata": {},
   "outputs": [
    {
     "ename": "SyntaxError",
     "evalue": "Missing parentheses in call to 'print'. Did you mean print(print 'read image error occured', fs[rnd])? (<ipython-input-165-d599f7896d15>, line 34)",
     "output_type": "error",
     "traceback": [
      "\u001b[1;36m  File \u001b[1;32m\"<ipython-input-165-d599f7896d15>\"\u001b[1;36m, line \u001b[1;32m34\u001b[0m\n\u001b[1;33m    print 'read image error occured', fs[rnd]\u001b[0m\n\u001b[1;37m                                   ^\u001b[0m\n\u001b[1;31mSyntaxError\u001b[0m\u001b[1;31m:\u001b[0m Missing parentheses in call to 'print'. Did you mean print(print 'read image error occured', fs[rnd])?\n"
     ]
    }
   ],
   "source": [
    "def train_dcgan(gen, dis):\n",
    "    o_gen = optimizers.Adam(alpha=0.0002, beta1=0.5)\n",
    "    o_dis = optimizers.Adam(alpha=0.0002, beta1=0.5)\n",
    "    o_gen.setup(gen)\n",
    "    o_dis.setup(dis)\n",
    "    o_gen.add_hook(chainer.optimizer.WeightDecay(0.00001))\n",
    "    o_dis.add_hook(chainer.optimizer.WeightDecay(0.00001))\n",
    "\n",
    "    zvis = (np.random.uniform(-1, 1, (batchsize, nz))).astype(np.float32)\n",
    "    \n",
    "    for epoch in range(n_epoch):\n",
    "        perm = np.random.permutation(n_train)\n",
    "        sum_l_dis = np.float32(0)\n",
    "        sum_l_gen = np.float32(0)\n",
    "        \n",
    "        for i in xrange(0, n_train, batchsize):\n",
    "            # discriminator\n",
    "            # 0: from dataset\n",
    "            # 1: from noise\n",
    "\n",
    "            #print \"load image start \", i\n",
    "            x2 = np.zeros((batchsize, 3, 96, 96), dtype=np.float32)\n",
    "            for j in range(batchsize):\n",
    "                try:\n",
    "                    rnd = np.random.randint(len(dataset))\n",
    "                    rnd2 = np.random.randint(2)\n",
    "\n",
    "                    img = np.asarray(Image.open(StringIO(dataset[rnd])).convert('RGB')).astype(np.float32).transpose(2, 0, 1)\n",
    "                    if rnd2==0:\n",
    "                        x2[j,:,:,:] = (img[:,:,::-1]-128.0)/128.0\n",
    "                    else:\n",
    "                        x2[j,:,:,:] = (img[:,:,:]-128.0)/128.0\n",
    "                except:\n",
    "                    print 'read image error occured', fs[rnd]\n",
    "            #print \"load image done\"\n",
    "            \n",
    "            # train generator\n",
    "            z = Variable(xp.random.uniform(-1, 1, (batchsize, nz), dtype=np.float32))\n",
    "            x = gen(z)\n",
    "            yl = dis(x)\n",
    "            L_gen = F.softmax_cross_entropy(yl, Variable(xp.zeros(batchsize, dtype=np.int32)))\n",
    "            L_dis = F.softmax_cross_entropy(yl, Variable(xp.ones(batchsize, dtype=np.int32)))\n",
    "            \n",
    "            # train discriminator\n",
    "                    \n",
    "            x2 = Variable(cuda.to_gpu(x2))\n",
    "            yl2 = dis(x2)\n",
    "            L_dis += F.softmax_cross_entropy(yl2, Variable(xp.zeros(batchsize, dtype=np.int32)))\n",
    "            \n",
    "            #print \"forward done\"\n",
    "\n",
    "            o_gen.zero_grads()\n",
    "            L_gen.backward()\n",
    "            o_gen.update()\n",
    "            \n",
    "            o_dis.zero_grads()\n",
    "            L_dis.backward()\n",
    "            o_dis.update()\n",
    "            \n",
    "            sum_l_gen += L_gen.data.get()\n",
    "            sum_l_dis += L_dis.data.get()\n",
    "            \n",
    "            #print \"backward done\"\n",
    "\n",
    "            if i%image_save_interval==0:\n",
    "                pylab.rcParams['figure.figsize'] = (16.0,16.0)\n",
    "                pylab.clf()\n",
    "                vissize = 100\n",
    "                z = zvis\n",
    "                z[50:,:] = (xp.random.uniform(-1, 1, (50, nz), dtype=np.float32))\n",
    "                z = Variable(z)\n",
    "                x = gen(z, test=True)\n",
    "                x = x.data.get()\n",
    "                for i_ in range(100):\n",
    "                    tmp = ((np.vectorize(clip_img)(x[i_,:,:,:])+1)/2).transpose(1,2,0)\n",
    "                    pylab.subplot(10,10,i_+1)\n",
    "                    pylab.imshow(tmp)\n",
    "                    pylab.axis('off')\n",
    "                pylab.savefig('%s/vis_%d_%d.png'%(out_image_dir, epoch,i))\n",
    "                \n",
    "        serializers.save_hdf5(\"%s/dcgan_model_dis_%d.h5\"%(out_model_dir, epoch),dis)\n",
    "        serializers.save_hdf5(\"%s/dcgan_model_gen_%d.h5\"%(out_model_dir, epoch),gen)\n",
    "        serializers.save_hdf5(\"%s/dcgan_state_dis_%d.h5\"%(out_model_dir, epoch),o_dis)\n",
    "        serializers.save_hdf5(\"%s/dcgan_state_gen_%d.h5\"%(out_model_dir, epoch),o_gen)\n",
    "        print 'epoch end', epoch, sum_l_gen/n_train, sum_l_dis/n_train"
   ]
  },
  {
   "cell_type": "code",
   "execution_count": 172,
   "metadata": {},
   "outputs": [
    {
     "ename": "RuntimeError",
     "evalue": "CUDA environment is not correctly set up\n(see https://github.com/chainer/chainer#installation).No module named 'cupy'",
     "output_type": "error",
     "traceback": [
      "\u001b[1;31m---------------------------------------------------------------------------\u001b[0m",
      "\u001b[1;31mRuntimeError\u001b[0m                              Traceback (most recent call last)",
      "\u001b[1;32m<ipython-input-172-6610cd5616c9>\u001b[0m in \u001b[0;36m<module>\u001b[1;34m()\u001b[0m\n\u001b[1;32m----> 1\u001b[1;33m \u001b[0mcuda\u001b[0m\u001b[1;33m.\u001b[0m\u001b[0mget_device\u001b[0m\u001b[1;33m(\u001b[0m\u001b[1;36m0\u001b[0m\u001b[1;33m)\u001b[0m\u001b[1;33m.\u001b[0m\u001b[0muse\u001b[0m\u001b[1;33m(\u001b[0m\u001b[1;33m)\u001b[0m\u001b[1;33m\u001b[0m\u001b[0m\n\u001b[0m",
      "\u001b[1;32m~\\Anaconda3\\lib\\site-packages\\chainer\\backends\\cuda.py\u001b[0m in \u001b[0;36mget_device\u001b[1;34m(*args)\u001b[0m\n\u001b[0;32m    221\u001b[0m     warnings.warn('get_device is deprecated. Please use get_device_from_id or'\n\u001b[0;32m    222\u001b[0m                   ' get_device_from_array instead.', DeprecationWarning)\n\u001b[1;32m--> 223\u001b[1;33m     \u001b[1;32mreturn\u001b[0m \u001b[0m_get_device\u001b[0m\u001b[1;33m(\u001b[0m\u001b[1;33m*\u001b[0m\u001b[0margs\u001b[0m\u001b[1;33m)\u001b[0m\u001b[1;33m\u001b[0m\u001b[0m\n\u001b[0m\u001b[0;32m    224\u001b[0m \u001b[1;33m\u001b[0m\u001b[0m\n\u001b[0;32m    225\u001b[0m \u001b[1;33m\u001b[0m\u001b[0m\n",
      "\u001b[1;32m~\\Anaconda3\\lib\\site-packages\\chainer\\backends\\cuda.py\u001b[0m in \u001b[0;36m_get_device\u001b[1;34m(*args)\u001b[0m\n\u001b[0;32m    227\u001b[0m     \u001b[1;32mfor\u001b[0m \u001b[0marg\u001b[0m \u001b[1;32min\u001b[0m \u001b[0margs\u001b[0m\u001b[1;33m:\u001b[0m\u001b[1;33m\u001b[0m\u001b[0m\n\u001b[0;32m    228\u001b[0m         \u001b[1;32mif\u001b[0m \u001b[0mtype\u001b[0m\u001b[1;33m(\u001b[0m\u001b[0marg\u001b[0m\u001b[1;33m)\u001b[0m \u001b[1;32mis\u001b[0m \u001b[1;32mnot\u001b[0m \u001b[0mbool\u001b[0m \u001b[1;32mand\u001b[0m \u001b[0misinstance\u001b[0m\u001b[1;33m(\u001b[0m\u001b[0marg\u001b[0m\u001b[1;33m,\u001b[0m \u001b[0m_integer_types\u001b[0m\u001b[1;33m)\u001b[0m\u001b[1;33m:\u001b[0m\u001b[1;33m\u001b[0m\u001b[0m\n\u001b[1;32m--> 229\u001b[1;33m             \u001b[0mcheck_cuda_available\u001b[0m\u001b[1;33m(\u001b[0m\u001b[1;33m)\u001b[0m\u001b[1;33m\u001b[0m\u001b[0m\n\u001b[0m\u001b[0;32m    230\u001b[0m             \u001b[1;32mreturn\u001b[0m \u001b[0mDevice\u001b[0m\u001b[1;33m(\u001b[0m\u001b[0marg\u001b[0m\u001b[1;33m)\u001b[0m\u001b[1;33m\u001b[0m\u001b[0m\n\u001b[0;32m    231\u001b[0m         \u001b[1;32mif\u001b[0m \u001b[0misinstance\u001b[0m\u001b[1;33m(\u001b[0m\u001b[0marg\u001b[0m\u001b[1;33m,\u001b[0m \u001b[0mndarray\u001b[0m\u001b[1;33m)\u001b[0m\u001b[1;33m:\u001b[0m\u001b[1;33m\u001b[0m\u001b[0m\n",
      "\u001b[1;32m~\\Anaconda3\\lib\\site-packages\\chainer\\backends\\cuda.py\u001b[0m in \u001b[0;36mcheck_cuda_available\u001b[1;34m()\u001b[0m\n\u001b[0;32m     88\u001b[0m                '(see https://github.com/chainer/chainer#installation).')\n\u001b[0;32m     89\u001b[0m         \u001b[0mmsg\u001b[0m \u001b[1;33m+=\u001b[0m \u001b[0mstr\u001b[0m\u001b[1;33m(\u001b[0m\u001b[0m_resolution_error\u001b[0m\u001b[1;33m)\u001b[0m\u001b[1;33m\u001b[0m\u001b[0m\n\u001b[1;32m---> 90\u001b[1;33m         \u001b[1;32mraise\u001b[0m \u001b[0mRuntimeError\u001b[0m\u001b[1;33m(\u001b[0m\u001b[0mmsg\u001b[0m\u001b[1;33m)\u001b[0m\u001b[1;33m\u001b[0m\u001b[0m\n\u001b[0m\u001b[0;32m     91\u001b[0m     if (not cudnn_enabled and\n\u001b[0;32m     92\u001b[0m             \u001b[1;32mnot\u001b[0m \u001b[0m_cudnn_disabled_by_user\u001b[0m \u001b[1;32mand\u001b[0m\u001b[1;33m\u001b[0m\u001b[0m\n",
      "\u001b[1;31mRuntimeError\u001b[0m: CUDA environment is not correctly set up\n(see https://github.com/chainer/chainer#installation).No module named 'cupy'"
     ]
    }
   ],
   "source": [
    "cuda.get_device(0).use()"
   ]
  },
  {
   "cell_type": "code",
   "execution_count": 169,
   "metadata": {},
   "outputs": [
    {
     "ename": "AttributeError",
     "evalue": "'object' object has no attribute 'random'",
     "output_type": "error",
     "traceback": [
      "\u001b[1;31m---------------------------------------------------------------------------\u001b[0m",
      "\u001b[1;31mAttributeError\u001b[0m                            Traceback (most recent call last)",
      "\u001b[1;32m<ipython-input-169-6343586ade55>\u001b[0m in \u001b[0;36m<module>\u001b[1;34m()\u001b[0m\n\u001b[1;32m----> 1\u001b[1;33m \u001b[0mxp\u001b[0m\u001b[1;33m.\u001b[0m\u001b[0mrandom\u001b[0m\u001b[1;33m.\u001b[0m\u001b[0muniform\u001b[0m\u001b[1;33m(\u001b[0m\u001b[1;36m1\u001b[0m\u001b[1;33m)\u001b[0m\u001b[1;33m\u001b[0m\u001b[0m\n\u001b[0m",
      "\u001b[1;31mAttributeError\u001b[0m: 'object' object has no attribute 'random'"
     ]
    }
   ],
   "source": [
    "xp.random.uniform(1)"
   ]
  },
  {
   "cell_type": "code",
   "execution_count": 183,
   "metadata": {},
   "outputs": [],
   "source": [
    "zvis = (np.random.uniform(-1, 1, (batchsize, nz)))"
   ]
  },
  {
   "cell_type": "code",
   "execution_count": 184,
   "metadata": {},
   "outputs": [
    {
     "data": {
      "text/plain": [
       "(100, 100)"
      ]
     },
     "execution_count": 184,
     "metadata": {},
     "output_type": "execute_result"
    }
   ],
   "source": [
    "zvis.shape"
   ]
  },
  {
   "cell_type": "code",
   "execution_count": null,
   "metadata": {},
   "outputs": [],
   "source": []
  }
 ],
 "metadata": {
  "kernelspec": {
   "display_name": "Python 3",
   "language": "python",
   "name": "python3"
  },
  "language_info": {
   "codemirror_mode": {
    "name": "ipython",
    "version": 3
   },
   "file_extension": ".py",
   "mimetype": "text/x-python",
   "name": "python",
   "nbconvert_exporter": "python",
   "pygments_lexer": "ipython3",
   "version": "3.6.4"
  }
 },
 "nbformat": 4,
 "nbformat_minor": 2
}
