{
 "cells": [
  {
   "cell_type": "code",
   "execution_count": 3,
   "metadata": {},
   "outputs": [
    {
     "name": "stderr",
     "output_type": "stream",
     "text": [
      "C:\\Users\\suzuk\\Anaconda3\\lib\\site-packages\\h5py\\__init__.py:36: FutureWarning: Conversion of the second argument of issubdtype from `float` to `np.floating` is deprecated. In future, it will be treated as `np.float64 == np.dtype(float).type`.\n",
      "  from ._conv import register_converters as _register_converters\n"
     ]
    }
   ],
   "source": [
    "# 取り敢えずmnistで試す（CPU上での実行を想定しているため）\n",
    "from chainer import Chain, Variable, optimizers, iterators, datasets, training, cuda\n",
    "from chainer.training import extensions\n",
    "from chainer.datasets import mnist\n",
    "import chainer.functions as F\n",
    "import chainer.links as L\n",
    "import chainer\n",
    "\n",
    "import numpy as np\n",
    "import matplotlib.pyplot as plt\n",
    "from PIL import Image\n",
    "import os"
   ]
  },
  {
   "cell_type": "code",
   "execution_count": 4,
   "metadata": {},
   "outputs": [],
   "source": [
    "train, test = mnist.get_mnist(withlabel = False)\n",
    "train = (train - 0.5) / 0.5\n",
    "train = train.reshape(train.shape[0], 1, 28, 28)\n",
    "batchsize = 128\n",
    "dis_itr = iterators.SerialIterator(train, batchsize)\n",
    "initializer = chainer.initializers.HeNormal()"
   ]
  },
  {
   "cell_type": "code",
   "execution_count": 5,
   "metadata": {},
   "outputs": [],
   "source": [
    "class Generator(Chain):\n",
    "    \n",
    "    def __init__(self):\n",
    "        super(Generator, self).__init__()\n",
    "        with self.init_scope():\n",
    "            self.fc1 = L.Linear(100, 1024, initialW = initializer)\n",
    "            self.fc2 = L.Linear(1024, 128 * 7 * 7, initialW = initializer)\n",
    "            self.dc3 = L.Deconvolution2D(128, 64, 4, 2, 1, initialW = initializer)\n",
    "            self.dc4 = L.Deconvolution2D(64, 1, 4, 2, 1, initialW = initializer)\n",
    "            \n",
    "            self.bn1 = L.BatchNormalization(1024)\n",
    "            self.bn2 = L.BatchNormalization(128 * 7 * 7)\n",
    "            self.bn3 = L.BatchNormalization((64, 14, 14))\n",
    "    def __call__(self, x):\n",
    "        h = F.relu(self.bn1(self.fc1(x)))\n",
    "        h = F.relu(self.bn2(self.fc2(h)))\n",
    "        h = F.reshape(h, (h.shape[0], 128, 7, 7))\n",
    "        h = F.relu(self.bn3(self.dc3(h)))\n",
    "        h = F.tanh(self.dc4(h))\n",
    "        return h"
   ]
  },
  {
   "cell_type": "code",
   "execution_count": 6,
   "metadata": {
    "collapsed": true
   },
   "outputs": [],
   "source": [
    "class Discriminator(Chain):\n",
    "    \n",
    "    def __init__(self):\n",
    "        super(Discriminator, self).__init__()\n",
    "        with self.init_scope():\n",
    "            self.cv1 = L.Convolution2D(1, 64, 5, 2, initialW = initializer)\n",
    "            self.cv2 = L.Convolution2D(64, 128, 5, 2, initialW = initializer)\n",
    "            self.fc3 = L.Linear(None, 256, initialW = initializer)\n",
    "            self.fc4 = L.Linear(256, 2, initialW = initializer)\n",
    "            \n",
    "            self.bn1 = L.BatchNormalization((64, 12, 12))\n",
    "            self.bn2 = L.BatchNormalization((128, 4, 4))\n",
    "            self.bn3 = L.BatchNormalization(256)\n",
    "    def __call__(self, x):\n",
    "        #h = F.leaky_relu(self.bn1(self.cv1(x)), 0.2)\n",
    "        h = F.leaky_relu(self.cv1(x), 0.2)\n",
    "        #h = F.leaky_relu(self.bn2(self.cv2(h)), 0.2)\n",
    "        h = F.leaky_relu(self.cv2(h), 0.2)\n",
    "        #h = F.leaky_relu(self.bn3(self.fc3(h)), 0.2)\n",
    "        h = F.leaky_relu(self.fc3(h), 0.2)\n",
    "        h = F.dropout(h, 0.5)\n",
    "        h = self.fc4(h)\n",
    "        return h"
   ]
  },
  {
   "cell_type": "code",
   "execution_count": 7,
   "metadata": {
    "collapsed": true
   },
   "outputs": [],
   "source": [
    "max_epoch = 50\n",
    "\n",
    "GENERATED_IMAGE_PATH = 'generated_images/'\n",
    "if not os.path.exists(GENERATED_IMAGE_PATH):\n",
    "    os.mkdir(GENERATED_IMAGE_PATH)"
   ]
  },
  {
   "cell_type": "code",
   "execution_count": 8,
   "metadata": {
    "collapsed": true
   },
   "outputs": [],
   "source": [
    "def train():\n",
    "    chainer.cuda.memory_pool.free_all_blocks()\n",
    "    \n",
    "    model_gen = Generator()\n",
    "    model_dis = Discriminator()\n",
    "    \n",
    "    opt_gen = optimizers.Adam(alpha = 2e-4, beta1 = 0.5)\n",
    "    opt_dis = optimizers.Adam(alpha = 2e-4, beta1 = 0.5)\n",
    "    opt_gen.setup(model_gen)\n",
    "    opt_dis.setup(model_dis)\n",
    "    opt_gen.add_hook(chainer.optimizer.WeightDecay(0.00001))\n",
    "    opt_dis.add_hook(chainer.optimizer.WeightDecay(0.00001))\n",
    "    \n",
    "    gpu_device = 0\n",
    "    cuda.get_device(gpu_device).use()\n",
    "    model_gen.to_gpu(gpu_device)\n",
    "    model_dis.to_gpu(gpu_device)\n",
    "    xp = cuda.cupy\n",
    "    \n",
    "    dis_itr.epoch = 0\n",
    "    while dis_itr.epoch < max_epoch:\n",
    "        real_images = xp.array(dis_itr.next())\n",
    "        y = model_dis(real_images)\n",
    "        loss_dis = F.softmax_cross_entropy(y, Variable(xp.zeros(batchsize).astype(np.int32)))\n",
    "        \n",
    "        noise = xp.array(np.random.uniform(-1, 1, (batchsize, 100)).astype(np.float32))\n",
    "        generated_images = model_gen(noise)\n",
    "        y = model_dis(generated_images)\n",
    "        \n",
    "        loss_dis += F.softmax_cross_entropy(y, Variable(xp.ones(batchsize).astype(np.int32)))\n",
    "        model_dis.cleargrads()\n",
    "        loss_dis.backward()\n",
    "        opt_dis.update()\n",
    "        \n",
    "        noise = xp.array(np.random.uniform(-1, 1, (batchsize, 100)).astype(np.float32))\n",
    "        y = model_dis(model_gen(noise))\n",
    "        loss_gen = F.softmax_cross_entropy(y, Variable(xp.zeros(batchsize).astype(np.int32)))\n",
    "        model_gen.cleargrads()\n",
    "        loss_gen.backward()\n",
    "        opt_gen.update()\n",
    "        \n",
    "        if dis_itr.is_new_epoch:\n",
    "            print(\"epoch:\", dis_itr.epoch)\n",
    "            print(\"loss_dis:\", loss_dis, \"  loss_gen:\", loss_gen)\n",
    "            for n,image in enumerate(generated_images[:10]):\n",
    "                image = cuda.to_cpu(image.data)*127.5 + 127.5\n",
    "                Image.fromarray(image.astype(np.uint8).reshape(28, 28)) \\\n",
    "                                                      .save(GENERATED_IMAGE_PATH+\"%03d_%03d.png\" % (dis_itr.epoch, n))"
   ]
  },
  {
   "cell_type": "code",
   "execution_count": 9,
   "metadata": {
    "scrolled": true
   },
   "outputs": [
    {
     "name": "stdout",
     "output_type": "stream",
     "text": [
      "epoch: 1\n",
      "loss_dis: variable(0.13320386)   loss_gen: variable(5.2728815)\n",
      "epoch: 2\n",
      "loss_dis: variable(0.17901576)   loss_gen: variable(4.3863845)\n",
      "epoch: 3\n",
      "loss_dis: variable(0.3040013)   loss_gen: variable(3.4799953)\n",
      "epoch: 4\n",
      "loss_dis: variable(0.31982332)   loss_gen: variable(2.9799676)\n",
      "epoch: 5\n",
      "loss_dis: variable(0.9771055)   loss_gen: variable(0.9219672)\n",
      "epoch: 6\n",
      "loss_dis: variable(0.61661637)   loss_gen: variable(2.4262328)\n",
      "epoch: 7\n",
      "loss_dis: variable(0.6992971)   loss_gen: variable(2.583445)\n",
      "epoch: 8\n",
      "loss_dis: variable(0.65144277)   loss_gen: variable(2.6459694)\n",
      "epoch: 9\n",
      "loss_dis: variable(0.9196221)   loss_gen: variable(1.3410692)\n",
      "epoch: 10\n",
      "loss_dis: variable(0.805462)   loss_gen: variable(1.9157201)\n",
      "epoch: 11\n",
      "loss_dis: variable(0.704929)   loss_gen: variable(1.7037642)\n",
      "epoch: 12\n",
      "loss_dis: variable(0.9544689)   loss_gen: variable(1.9467893)\n",
      "epoch: 13\n",
      "loss_dis: variable(0.87063134)   loss_gen: variable(1.664388)\n",
      "epoch: 14\n",
      "loss_dis: variable(0.8301674)   loss_gen: variable(1.7489468)\n",
      "epoch: 15\n",
      "loss_dis: variable(0.78763187)   loss_gen: variable(1.7864835)\n",
      "epoch: 16\n",
      "loss_dis: variable(0.86625606)   loss_gen: variable(1.6603185)\n",
      "epoch: 17\n",
      "loss_dis: variable(1.0279243)   loss_gen: variable(0.9130032)\n",
      "epoch: 18\n",
      "loss_dis: variable(0.9897862)   loss_gen: variable(1.9339337)\n",
      "epoch: 19\n",
      "loss_dis: variable(0.98200214)   loss_gen: variable(0.89062)\n",
      "epoch: 20\n",
      "loss_dis: variable(1.0578659)   loss_gen: variable(0.9053451)\n",
      "epoch: 21\n",
      "loss_dis: variable(0.94544816)   loss_gen: variable(1.8049629)\n"
     ]
    },
    {
     "ename": "KeyboardInterrupt",
     "evalue": "",
     "output_type": "error",
     "traceback": [
      "\u001b[1;31m---------------------------------------------------------------------------\u001b[0m",
      "\u001b[1;31mKeyboardInterrupt\u001b[0m                         Traceback (most recent call last)",
      "\u001b[1;32m<ipython-input-9-93fd337a0d5c>\u001b[0m in \u001b[0;36m<module>\u001b[1;34m()\u001b[0m\n\u001b[1;32m----> 1\u001b[1;33m \u001b[0mtrain\u001b[0m\u001b[1;33m(\u001b[0m\u001b[1;33m)\u001b[0m\u001b[1;33m\u001b[0m\u001b[0m\n\u001b[0m",
      "\u001b[1;32m<ipython-input-8-938b9a607e0e>\u001b[0m in \u001b[0;36mtrain\u001b[1;34m()\u001b[0m\n\u001b[0;32m     38\u001b[0m         \u001b[0mmodel_gen\u001b[0m\u001b[1;33m.\u001b[0m\u001b[0mcleargrads\u001b[0m\u001b[1;33m(\u001b[0m\u001b[1;33m)\u001b[0m\u001b[1;33m\u001b[0m\u001b[0m\n\u001b[0;32m     39\u001b[0m         \u001b[0mloss_gen\u001b[0m\u001b[1;33m.\u001b[0m\u001b[0mbackward\u001b[0m\u001b[1;33m(\u001b[0m\u001b[1;33m)\u001b[0m\u001b[1;33m\u001b[0m\u001b[0m\n\u001b[1;32m---> 40\u001b[1;33m         \u001b[0mopt_gen\u001b[0m\u001b[1;33m.\u001b[0m\u001b[0mupdate\u001b[0m\u001b[1;33m(\u001b[0m\u001b[1;33m)\u001b[0m\u001b[1;33m\u001b[0m\u001b[0m\n\u001b[0m\u001b[0;32m     41\u001b[0m \u001b[1;33m\u001b[0m\u001b[0m\n\u001b[0;32m     42\u001b[0m         \u001b[1;32mif\u001b[0m \u001b[0mdis_itr\u001b[0m\u001b[1;33m.\u001b[0m\u001b[0mis_new_epoch\u001b[0m\u001b[1;33m:\u001b[0m\u001b[1;33m\u001b[0m\u001b[0m\n",
      "\u001b[1;32m~\\Anaconda3\\lib\\site-packages\\chainer\\optimizer.py\u001b[0m in \u001b[0;36mupdate\u001b[1;34m(self, lossfun, *args, **kwds)\u001b[0m\n\u001b[0;32m    652\u001b[0m         \u001b[0mself\u001b[0m\u001b[1;33m.\u001b[0m\u001b[0mt\u001b[0m \u001b[1;33m+=\u001b[0m \u001b[1;36m1\u001b[0m\u001b[1;33m\u001b[0m\u001b[0m\n\u001b[0;32m    653\u001b[0m         \u001b[1;32mfor\u001b[0m \u001b[0mparam\u001b[0m \u001b[1;32min\u001b[0m \u001b[0mself\u001b[0m\u001b[1;33m.\u001b[0m\u001b[0mtarget\u001b[0m\u001b[1;33m.\u001b[0m\u001b[0mparams\u001b[0m\u001b[1;33m(\u001b[0m\u001b[1;33m)\u001b[0m\u001b[1;33m:\u001b[0m\u001b[1;33m\u001b[0m\u001b[0m\n\u001b[1;32m--> 654\u001b[1;33m             \u001b[0mparam\u001b[0m\u001b[1;33m.\u001b[0m\u001b[0mupdate\u001b[0m\u001b[1;33m(\u001b[0m\u001b[1;33m)\u001b[0m\u001b[1;33m\u001b[0m\u001b[0m\n\u001b[0m\u001b[0;32m    655\u001b[0m \u001b[1;33m\u001b[0m\u001b[0m\n\u001b[0;32m    656\u001b[0m         \u001b[0mself\u001b[0m\u001b[1;33m.\u001b[0m\u001b[0mreallocate_cleared_grads\u001b[0m\u001b[1;33m(\u001b[0m\u001b[1;33m)\u001b[0m\u001b[1;33m\u001b[0m\u001b[0m\n",
      "\u001b[1;32m~\\Anaconda3\\lib\\site-packages\\chainer\\variable.py\u001b[0m in \u001b[0;36mupdate\u001b[1;34m(self)\u001b[0m\n\u001b[0;32m   1412\u001b[0m         \"\"\"\n\u001b[0;32m   1413\u001b[0m         \u001b[1;32mif\u001b[0m \u001b[0mself\u001b[0m\u001b[1;33m.\u001b[0m\u001b[0mupdate_rule\u001b[0m \u001b[1;32mis\u001b[0m \u001b[1;32mnot\u001b[0m \u001b[1;32mNone\u001b[0m\u001b[1;33m:\u001b[0m\u001b[1;33m\u001b[0m\u001b[0m\n\u001b[1;32m-> 1414\u001b[1;33m             \u001b[0mself\u001b[0m\u001b[1;33m.\u001b[0m\u001b[0mupdate_rule\u001b[0m\u001b[1;33m.\u001b[0m\u001b[0mupdate\u001b[0m\u001b[1;33m(\u001b[0m\u001b[0mself\u001b[0m\u001b[1;33m)\u001b[0m\u001b[1;33m\u001b[0m\u001b[0m\n\u001b[0m\u001b[0;32m   1415\u001b[0m \u001b[1;33m\u001b[0m\u001b[0m\n\u001b[0;32m   1416\u001b[0m \u001b[1;33m\u001b[0m\u001b[0m\n",
      "\u001b[1;32m~\\Anaconda3\\lib\\site-packages\\chainer\\optimizer.py\u001b[0m in \u001b[0;36mupdate\u001b[1;34m(self, param)\u001b[0m\n\u001b[0;32m    216\u001b[0m             \u001b[1;32mfor\u001b[0m \u001b[0mhook\u001b[0m \u001b[1;32min\u001b[0m \u001b[0msix\u001b[0m\u001b[1;33m.\u001b[0m\u001b[0mitervalues\u001b[0m\u001b[1;33m(\u001b[0m\u001b[0mself\u001b[0m\u001b[1;33m.\u001b[0m\u001b[0m_pre_update_hooks\u001b[0m\u001b[1;33m)\u001b[0m\u001b[1;33m:\u001b[0m\u001b[1;33m\u001b[0m\u001b[0m\n\u001b[0;32m    217\u001b[0m                 \u001b[0mhook\u001b[0m\u001b[1;33m(\u001b[0m\u001b[0mself\u001b[0m\u001b[1;33m,\u001b[0m \u001b[0mparam\u001b[0m\u001b[1;33m)\u001b[0m\u001b[1;33m\u001b[0m\u001b[0m\n\u001b[1;32m--> 218\u001b[1;33m             \u001b[0mself\u001b[0m\u001b[1;33m.\u001b[0m\u001b[0mupdate_core\u001b[0m\u001b[1;33m(\u001b[0m\u001b[0mparam\u001b[0m\u001b[1;33m)\u001b[0m\u001b[1;33m\u001b[0m\u001b[0m\n\u001b[0m\u001b[0;32m    219\u001b[0m             \u001b[1;32mfor\u001b[0m \u001b[0mhook\u001b[0m \u001b[1;32min\u001b[0m \u001b[0msix\u001b[0m\u001b[1;33m.\u001b[0m\u001b[0mitervalues\u001b[0m\u001b[1;33m(\u001b[0m\u001b[0mself\u001b[0m\u001b[1;33m.\u001b[0m\u001b[0m_post_update_hooks\u001b[0m\u001b[1;33m)\u001b[0m\u001b[1;33m:\u001b[0m\u001b[1;33m\u001b[0m\u001b[0m\n\u001b[0;32m    220\u001b[0m                 \u001b[0mhook\u001b[0m\u001b[1;33m(\u001b[0m\u001b[0mself\u001b[0m\u001b[1;33m,\u001b[0m \u001b[0mparam\u001b[0m\u001b[1;33m)\u001b[0m\u001b[1;33m\u001b[0m\u001b[0m\n",
      "\u001b[1;32m~\\Anaconda3\\lib\\site-packages\\chainer\\optimizer.py\u001b[0m in \u001b[0;36mupdate_core\u001b[1;34m(self, param)\u001b[0m\n\u001b[0;32m    234\u001b[0m                 \u001b[0mself\u001b[0m\u001b[1;33m.\u001b[0m\u001b[0mupdate_core_cpu\u001b[0m\u001b[1;33m(\u001b[0m\u001b[0mparam\u001b[0m\u001b[1;33m)\u001b[0m\u001b[1;33m\u001b[0m\u001b[0m\n\u001b[0;32m    235\u001b[0m             \u001b[1;32melse\u001b[0m\u001b[1;33m:\u001b[0m\u001b[1;33m\u001b[0m\u001b[0m\n\u001b[1;32m--> 236\u001b[1;33m                 \u001b[0mself\u001b[0m\u001b[1;33m.\u001b[0m\u001b[0mupdate_core_gpu\u001b[0m\u001b[1;33m(\u001b[0m\u001b[0mparam\u001b[0m\u001b[1;33m)\u001b[0m\u001b[1;33m\u001b[0m\u001b[0m\n\u001b[0m\u001b[0;32m    237\u001b[0m \u001b[1;33m\u001b[0m\u001b[0m\n\u001b[0;32m    238\u001b[0m     \u001b[1;32mdef\u001b[0m \u001b[0mupdate_core_cpu\u001b[0m\u001b[1;33m(\u001b[0m\u001b[0mself\u001b[0m\u001b[1;33m,\u001b[0m \u001b[0mparam\u001b[0m\u001b[1;33m)\u001b[0m\u001b[1;33m:\u001b[0m\u001b[1;33m\u001b[0m\u001b[0m\n",
      "\u001b[1;32m~\\Anaconda3\\lib\\site-packages\\chainer\\optimizers\\adam.py\u001b[0m in \u001b[0;36mupdate_core_gpu\u001b[1;34m(self, param)\u001b[0m\n\u001b[0;32m    150\u001b[0m                         \u001b[1;36m1\u001b[0m \u001b[1;33m-\u001b[0m \u001b[0mhp\u001b[0m\u001b[1;33m.\u001b[0m\u001b[0mbeta2\u001b[0m\u001b[1;33m,\u001b[0m \u001b[0mhp\u001b[0m\u001b[1;33m.\u001b[0m\u001b[0meps\u001b[0m\u001b[1;33m,\u001b[0m\u001b[1;33m\u001b[0m\u001b[0m\n\u001b[0;32m    151\u001b[0m                         \u001b[0mhp\u001b[0m\u001b[1;33m.\u001b[0m\u001b[0meta\u001b[0m\u001b[1;33m,\u001b[0m \u001b[0mhp\u001b[0m\u001b[1;33m.\u001b[0m\u001b[0mweight_decay_rate\u001b[0m\u001b[1;33m,\u001b[0m\u001b[1;33m\u001b[0m\u001b[0m\n\u001b[1;32m--> 152\u001b[1;33m                         param.data, self.state['m'], self.state['v'])\n\u001b[0m\u001b[0;32m    153\u001b[0m \u001b[1;33m\u001b[0m\u001b[0m\n\u001b[0;32m    154\u001b[0m     \u001b[1;33m@\u001b[0m\u001b[0mproperty\u001b[0m\u001b[1;33m\u001b[0m\u001b[0m\n",
      "\u001b[1;31mKeyboardInterrupt\u001b[0m: "
     ]
    }
   ],
   "source": [
    "train()"
   ]
  },
  {
   "cell_type": "code",
   "execution_count": null,
   "metadata": {
    "collapsed": true
   },
   "outputs": [],
   "source": []
  }
 ],
 "metadata": {
  "kernelspec": {
   "display_name": "Python 3",
   "language": "python",
   "name": "python3"
  },
  "language_info": {
   "codemirror_mode": {
    "name": "ipython",
    "version": 3
   },
   "file_extension": ".py",
   "mimetype": "text/x-python",
   "name": "python",
   "nbconvert_exporter": "python",
   "pygments_lexer": "ipython3",
   "version": "3.6.3"
  }
 },
 "nbformat": 4,
 "nbformat_minor": 2
}
