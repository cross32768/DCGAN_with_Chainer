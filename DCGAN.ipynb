{
 "cells": [
  {
   "cell_type": "code",
   "execution_count": 14,
   "metadata": {},
   "outputs": [],
   "source": [
    "# 取り敢えずmnistで試す（CPU上での実行を想定しているため）\n",
    "from chainer import Chain, Variable, optimizers, iterators, datasets, training\n",
    "from chainer.training import extensions\n",
    "from chainer.datasets import mnist\n",
    "import chainer.functions as F\n",
    "import chainer.links as L\n",
    "import chainer\n",
    "\n",
    "import numpy as np\n",
    "import matplotlib.pyplot as plt\n",
    "from PIL import Image\n",
    "import os"
   ]
  },
  {
   "cell_type": "code",
   "execution_count": 22,
   "metadata": {},
   "outputs": [
    {
     "data": {
      "image/png": "[encoded data removed]",
      "text/plain": [
       "<matplotlib.figure.Figure at 0x29d817e04a8>"
      ]
     },
     "metadata": {},
     "output_type": "display_data"
    }
   ],
   "source": [
    "train, test = mnist.get_mnist(withlabel = False)\n",
    "train = (train - 0.5) / 0.5\n",
    "train = train.reshape(train.shape[0], 28, 28)\n",
    "plt.imshow(train[0], cmap = 'gray')\n",
    "batchsize = 64\n",
    "dis_itr = iterators.SerialIterator(train[:1000], batchsize)"
   ]
  },
  {
   "cell_type": "code",
   "execution_count": 23,
   "metadata": {},
   "outputs": [],
   "source": [
    "class Generator(Chain):\n",
    "    \n",
    "    def __init__(self):\n",
    "        super(Generator, self).__init__()\n",
    "        with self.init_scope():\n",
    "            self.fc1 = L.Linear(100, 1024)\n",
    "            self.fc2 = L.Linear(1024, 128 * 7 * 7)\n",
    "            self.dc3 = L.Deconvolution2D(128, 64, 4, 2, 1)\n",
    "            self.dc4 = L.Deconvolution2D(64, 1, 4, 2, 1)\n",
    "            \n",
    "            self.bn1 = L.BatchNormalization(1024)\n",
    "            self.bn2 = L.BatchNormalization(128 * 7 * 7)\n",
    "            self.bn3 = L.BatchNormalization((64, 14, 14))\n",
    "    def __call__(self, x):\n",
    "        h = F.relu(self.bn1(self.fc1(x)))\n",
    "        h = F.relu(self.bn2(self.fc2(h)))\n",
    "        h = F.reshape(h, (h.shape[0], 128, 7, 7))\n",
    "        h = F.relu(self.bn3(self.dc3(h)))\n",
    "        h = F.tanh(self.dc4(h))\n",
    "        return h"
   ]
  },
  {
   "cell_type": "code",
   "execution_count": 24,
   "metadata": {},
   "outputs": [],
   "source": [
    "class Discriminator(Chain):\n",
    "    \n",
    "    def __init__(self):\n",
    "        super(Discriminator, self).__init__()\n",
    "        with self.init_scope():\n",
    "            self.cv1 = L.Convolution2D(1, 64, 5, 2)\n",
    "            self.cv2 = L.Convolution2D(64, 128, 5, 2)\n",
    "            self.fc3 = L.Linear(None, 256)\n",
    "            self.fc4 = L.Linear(256, 2)\n",
    "            \n",
    "            self.bn1 = L.BatchNormalization((64, 12, 12))\n",
    "            self.bn2 = L.BatchNormalization((128, 4, 4))\n",
    "            self.bn3 = L.BatchNormalization(256)\n",
    "    def __call__(self, x):\n",
    "        h = F.leaky_relu(self.bn1(self.cv1(x)), 0.2)\n",
    "        h = F.leaky_relu(self.bn2(self.cv2(h)), 0.2)\n",
    "        h = F.leaky_relu(self.bn3(self.fc3(h)), 0.2)\n",
    "        h = F.dropout(h, 0.5)\n",
    "        h = self.fc4(h)\n",
    "        return h"
   ]
  },
  {
   "cell_type": "code",
   "execution_count": 27,
   "metadata": {},
   "outputs": [],
   "source": [
    "model_gen = Generator()\n",
    "model_dis = Discriminator()\n",
    "opt_gen = optimizers.Adam(alpha = 2e-4, beta1 = 0.5)\n",
    "opt_dis = optimizers.Adam(alpha = 2e-4, beta1 = 0.5)\n",
    "opt_gen.setup(model_gen)\n",
    "opt_dis.setup(model_dis)\n",
    "opt_gen.add_hook(chainer.optimizer.WeightDecay(0.00001))\n",
    "opt_dis.add_hook(chainer.optimizer.WeightDecay(0.00001))"
   ]
  },
  {
   "cell_type": "code",
   "execution_count": 28,
   "metadata": {},
   "outputs": [],
   "source": [
    "max_epoch = 20\n",
    "\n",
    "GENERATED_IMAGE_PATH = 'generated_images/'\n",
    "if not os.path.exists(GENERATED_IMAGE_PATH):\n",
    "    os.mkdir(GENERATED_IMAGE_PATH)"
   ]
  },
  {
   "cell_type": "code",
   "execution_count": 29,
   "metadata": {},
   "outputs": [],
   "source": [
    "def train():\n",
    "    dis_itr.epoch = 0\n",
    "    while dis_itr.epoch < max_epoch:\n",
    "        real_images = np.array(dis_itr.next()).reshape(batchsize, 1, 28, 28)\n",
    "        y = model_dis(real_images)\n",
    "        loss_dis = F.softmax_cross_entropy(y, Variable(np.zeros(batchsize).astype(np.int32)))\n",
    "        # model_dis.cleargrads()\n",
    "        # loss.backward()\n",
    "        # opt_dis.update()\n",
    "        \n",
    "        noise = np.array([np.random.uniform(-1, 1, 100) for _ in range(batchsize)]).astype(np.float32)\n",
    "        generated_images = model_gen(noise)\n",
    "        y = model_dis(generated_images)\n",
    "        loss_dis += F.softmax_cross_entropy(y, Variable(np.ones(batchsize).astype(np.int32)))\n",
    "        model_dis.cleargrads()\n",
    "        loss_dis.backward()\n",
    "        opt_dis.update()\n",
    "        \n",
    "        noise = np.array([np.random.uniform(-1, 1, 100) for _ in range(batchsize)]).astype(np.float32)\n",
    "        y = model_dis(model_gen(noise))\n",
    "        loss_gen = F.softmax_cross_entropy(y, Variable(np.zeros(batchsize).astype(np.int32)))\n",
    "        model_gen.cleargrads()\n",
    "        loss_gen.backward()\n",
    "        opt_gen.update()\n",
    "        \n",
    "        if dis_itr.is_new_epoch:\n",
    "            print(\"epoch:\", dis_itr.epoch)\n",
    "            print(\"loss_dis:\", loss_dis, \"  loss_gen:\", loss_gen)\n",
    "            for n,image in enumerate(generated_images):\n",
    "                image = image.data*127.5 + 127.5\n",
    "                Image.fromarray(image.astype(np.uint8).reshape(28, 28)) \\\n",
    "                                                      .save(GENERATED_IMAGE_PATH+\"%03d_%03d.png\" % (dis_itr.epoch, n))"
   ]
  },
  {
   "cell_type": "code",
   "execution_count": 30,
   "metadata": {
    "scrolled": false
   },
   "outputs": [
    {
     "name": "stdout",
     "output_type": "stream",
     "text": [
      "epoch: 1\n",
      "loss_dis: variable(1.6445675)   loss_gen: variable(0.7310108)\n",
      "epoch: 2\n",
      "loss_dis: variable(1.648934)   loss_gen: variable(0.8207296)\n",
      "epoch: 3\n",
      "loss_dis: variable(1.4673563)   loss_gen: variable(0.84240323)\n",
      "epoch: 4\n",
      "loss_dis: variable(1.5874603)   loss_gen: variable(0.8009055)\n",
      "epoch: 5\n",
      "loss_dis: variable(1.486813)   loss_gen: variable(0.87824523)\n",
      "epoch: 6\n",
      "loss_dis: variable(1.4244695)   loss_gen: variable(0.862131)\n"
     ]
    },
    {
     "ename": "KeyboardInterrupt",
     "evalue": "",
     "output_type": "error",
     "traceback": [
      "\u001b[1;31m---------------------------------------------------------------------------\u001b[0m",
      "\u001b[1;31mKeyboardInterrupt\u001b[0m                         Traceback (most recent call last)",
      "\u001b[1;32m<ipython-input-30-2da0ffaf5447>\u001b[0m in \u001b[0;36m<module>\u001b[1;34m()\u001b[0m\n\u001b[1;32m----> 1\u001b[1;33m \u001b[0mtrain\u001b[0m\u001b[1;33m(\u001b[0m\u001b[1;33m)\u001b[0m\u001b[1;33m\u001b[0m\u001b[0m\n\u001b[0m",
      "\u001b[1;32m<ipython-input-29-0bc12b4eb35f>\u001b[0m in \u001b[0;36mtrain\u001b[1;34m()\u001b[0m\n\u001b[0;32m     21\u001b[0m         \u001b[0mloss_gen\u001b[0m \u001b[1;33m=\u001b[0m \u001b[0mF\u001b[0m\u001b[1;33m.\u001b[0m\u001b[0msoftmax_cross_entropy\u001b[0m\u001b[1;33m(\u001b[0m\u001b[0my\u001b[0m\u001b[1;33m,\u001b[0m \u001b[0mVariable\u001b[0m\u001b[1;33m(\u001b[0m\u001b[0mnp\u001b[0m\u001b[1;33m.\u001b[0m\u001b[0mzeros\u001b[0m\u001b[1;33m(\u001b[0m\u001b[0mbatchsize\u001b[0m\u001b[1;33m)\u001b[0m\u001b[1;33m.\u001b[0m\u001b[0mastype\u001b[0m\u001b[1;33m(\u001b[0m\u001b[0mnp\u001b[0m\u001b[1;33m.\u001b[0m\u001b[0mint32\u001b[0m\u001b[1;33m)\u001b[0m\u001b[1;33m)\u001b[0m\u001b[1;33m)\u001b[0m\u001b[1;33m\u001b[0m\u001b[0m\n\u001b[0;32m     22\u001b[0m         \u001b[0mmodel_gen\u001b[0m\u001b[1;33m.\u001b[0m\u001b[0mcleargrads\u001b[0m\u001b[1;33m(\u001b[0m\u001b[1;33m)\u001b[0m\u001b[1;33m\u001b[0m\u001b[0m\n\u001b[1;32m---> 23\u001b[1;33m         \u001b[0mloss_gen\u001b[0m\u001b[1;33m.\u001b[0m\u001b[0mbackward\u001b[0m\u001b[1;33m(\u001b[0m\u001b[1;33m)\u001b[0m\u001b[1;33m\u001b[0m\u001b[0m\n\u001b[0m\u001b[0;32m     24\u001b[0m         \u001b[0mopt_gen\u001b[0m\u001b[1;33m.\u001b[0m\u001b[0mupdate\u001b[0m\u001b[1;33m(\u001b[0m\u001b[1;33m)\u001b[0m\u001b[1;33m\u001b[0m\u001b[0m\n\u001b[0;32m     25\u001b[0m \u001b[1;33m\u001b[0m\u001b[0m\n",
      "\u001b[1;32m~\\Anaconda3\\lib\\site-packages\\chainer\\variable.py\u001b[0m in \u001b[0;36mbackward\u001b[1;34m(self, retain_grad, enable_double_backprop, loss_scale)\u001b[0m\n\u001b[0;32m    961\u001b[0m         \"\"\"\n\u001b[0;32m    962\u001b[0m         \u001b[1;32mwith\u001b[0m \u001b[0mchainer\u001b[0m\u001b[1;33m.\u001b[0m\u001b[0musing_config\u001b[0m\u001b[1;33m(\u001b[0m\u001b[1;34m'enable_backprop'\u001b[0m\u001b[1;33m,\u001b[0m \u001b[0menable_double_backprop\u001b[0m\u001b[1;33m)\u001b[0m\u001b[1;33m:\u001b[0m\u001b[1;33m\u001b[0m\u001b[0m\n\u001b[1;32m--> 963\u001b[1;33m             \u001b[0mself\u001b[0m\u001b[1;33m.\u001b[0m\u001b[0m_backward_main\u001b[0m\u001b[1;33m(\u001b[0m\u001b[0mretain_grad\u001b[0m\u001b[1;33m,\u001b[0m \u001b[0mloss_scale\u001b[0m\u001b[1;33m)\u001b[0m\u001b[1;33m\u001b[0m\u001b[0m\n\u001b[0m\u001b[0;32m    964\u001b[0m \u001b[1;33m\u001b[0m\u001b[0m\n\u001b[0;32m    965\u001b[0m     \u001b[1;32mdef\u001b[0m \u001b[0m_backward_main\u001b[0m\u001b[1;33m(\u001b[0m\u001b[0mself\u001b[0m\u001b[1;33m,\u001b[0m \u001b[0mretain_grad\u001b[0m\u001b[1;33m,\u001b[0m \u001b[0mloss_scale\u001b[0m\u001b[1;33m)\u001b[0m\u001b[1;33m:\u001b[0m\u001b[1;33m\u001b[0m\u001b[0m\n",
      "\u001b[1;32m~\\Anaconda3\\lib\\site-packages\\chainer\\variable.py\u001b[0m in \u001b[0;36m_backward_main\u001b[1;34m(self, retain_grad, loss_scale)\u001b[0m\n\u001b[0;32m   1090\u001b[0m \u001b[1;33m\u001b[0m\u001b[0m\n\u001b[0;32m   1091\u001b[0m             gxs = func.backward_accumulate(\n\u001b[1;32m-> 1092\u001b[1;33m                 target_input_indexes, out_grad, in_grad)\n\u001b[0m\u001b[0;32m   1093\u001b[0m \u001b[1;33m\u001b[0m\u001b[0m\n\u001b[0;32m   1094\u001b[0m             \u001b[1;32massert\u001b[0m \u001b[0mlen\u001b[0m\u001b[1;33m(\u001b[0m\u001b[0mgxs\u001b[0m\u001b[1;33m)\u001b[0m \u001b[1;33m==\u001b[0m \u001b[0mlen\u001b[0m\u001b[1;33m(\u001b[0m\u001b[0min_grad\u001b[0m\u001b[1;33m)\u001b[0m\u001b[1;33m\u001b[0m\u001b[0m\n",
      "\u001b[1;32m~\\Anaconda3\\lib\\site-packages\\chainer\\function_node.py\u001b[0m in \u001b[0;36mbackward_accumulate\u001b[1;34m(self, target_input_indexes, grad_outputs, grad_inputs)\u001b[0m\n\u001b[0;32m    546\u001b[0m         \u001b[1;31m# The default implementation uses backward(). You can override this\u001b[0m\u001b[1;33m\u001b[0m\u001b[1;33m\u001b[0m\u001b[0m\n\u001b[0;32m    547\u001b[0m         \u001b[1;31m# method without using backward().\u001b[0m\u001b[1;33m\u001b[0m\u001b[1;33m\u001b[0m\u001b[0m\n\u001b[1;32m--> 548\u001b[1;33m         \u001b[0mgxs\u001b[0m \u001b[1;33m=\u001b[0m \u001b[0mself\u001b[0m\u001b[1;33m.\u001b[0m\u001b[0mbackward\u001b[0m\u001b[1;33m(\u001b[0m\u001b[0mtarget_input_indexes\u001b[0m\u001b[1;33m,\u001b[0m \u001b[0mgrad_outputs\u001b[0m\u001b[1;33m)\u001b[0m\u001b[1;33m\u001b[0m\u001b[0m\n\u001b[0m\u001b[0;32m    549\u001b[0m \u001b[1;33m\u001b[0m\u001b[0m\n\u001b[0;32m    550\u001b[0m         \u001b[0mlen_gxs\u001b[0m \u001b[1;33m=\u001b[0m \u001b[0mlen\u001b[0m\u001b[1;33m(\u001b[0m\u001b[0mgxs\u001b[0m\u001b[1;33m)\u001b[0m\u001b[1;33m\u001b[0m\u001b[0m\n",
      "\u001b[1;32m~\\Anaconda3\\lib\\site-packages\\chainer\\functions\\connection\\deconvolution_2d.py\u001b[0m in \u001b[0;36mbackward\u001b[1;34m(self, indexes, grad_outputs)\u001b[0m\n\u001b[0;32m    276\u001b[0m                 \u001b[0mgy\u001b[0m\u001b[1;33m,\u001b[0m \u001b[0mW\u001b[0m\u001b[1;33m,\u001b[0m \u001b[0mstride\u001b[0m\u001b[1;33m=\u001b[0m\u001b[1;33m(\u001b[0m\u001b[0mself\u001b[0m\u001b[1;33m.\u001b[0m\u001b[0msy\u001b[0m\u001b[1;33m,\u001b[0m \u001b[0mself\u001b[0m\u001b[1;33m.\u001b[0m\u001b[0msx\u001b[0m\u001b[1;33m)\u001b[0m\u001b[1;33m,\u001b[0m \u001b[0mpad\u001b[0m\u001b[1;33m=\u001b[0m\u001b[1;33m(\u001b[0m\u001b[0mself\u001b[0m\u001b[1;33m.\u001b[0m\u001b[0mph\u001b[0m\u001b[1;33m,\u001b[0m \u001b[0mself\u001b[0m\u001b[1;33m.\u001b[0m\u001b[0mpw\u001b[0m\u001b[1;33m)\u001b[0m\u001b[1;33m,\u001b[0m\u001b[1;33m\u001b[0m\u001b[0m\n\u001b[0;32m    277\u001b[0m                 \u001b[0mcover_all\u001b[0m\u001b[1;33m=\u001b[0m\u001b[0mself\u001b[0m\u001b[1;33m.\u001b[0m\u001b[0mcover_all\u001b[0m\u001b[1;33m,\u001b[0m \u001b[0mdilate\u001b[0m\u001b[1;33m=\u001b[0m\u001b[1;33m(\u001b[0m\u001b[0mself\u001b[0m\u001b[1;33m.\u001b[0m\u001b[0mdy\u001b[0m\u001b[1;33m,\u001b[0m \u001b[0mself\u001b[0m\u001b[1;33m.\u001b[0m\u001b[0mdx\u001b[0m\u001b[1;33m)\u001b[0m\u001b[1;33m,\u001b[0m\u001b[1;33m\u001b[0m\u001b[0m\n\u001b[1;32m--> 278\u001b[1;33m                 groups=self.groups)\n\u001b[0m\u001b[0;32m    279\u001b[0m             \u001b[0mret\u001b[0m\u001b[1;33m.\u001b[0m\u001b[0mappend\u001b[0m\u001b[1;33m(\u001b[0m\u001b[0mgx\u001b[0m\u001b[1;33m)\u001b[0m\u001b[1;33m\u001b[0m\u001b[0m\n\u001b[0;32m    280\u001b[0m         \u001b[1;32mif\u001b[0m \u001b[1;36m1\u001b[0m \u001b[1;32min\u001b[0m \u001b[0mindexes\u001b[0m\u001b[1;33m:\u001b[0m\u001b[1;33m\u001b[0m\u001b[0m\n",
      "\u001b[1;32m~\\Anaconda3\\lib\\site-packages\\chainer\\functions\\connection\\convolution_2d.py\u001b[0m in \u001b[0;36mconvolution_2d\u001b[1;34m(x, W, b, stride, pad, cover_all, **kwargs)\u001b[0m\n\u001b[0;32m    575\u001b[0m     \u001b[1;32melse\u001b[0m\u001b[1;33m:\u001b[0m\u001b[1;33m\u001b[0m\u001b[0m\n\u001b[0;32m    576\u001b[0m         \u001b[0margs\u001b[0m \u001b[1;33m=\u001b[0m \u001b[0mx\u001b[0m\u001b[1;33m,\u001b[0m \u001b[0mW\u001b[0m\u001b[1;33m,\u001b[0m \u001b[0mb\u001b[0m\u001b[1;33m\u001b[0m\u001b[0m\n\u001b[1;32m--> 577\u001b[1;33m     \u001b[0my\u001b[0m\u001b[1;33m,\u001b[0m \u001b[1;33m=\u001b[0m \u001b[0mfnode\u001b[0m\u001b[1;33m.\u001b[0m\u001b[0mapply\u001b[0m\u001b[1;33m(\u001b[0m\u001b[0margs\u001b[0m\u001b[1;33m)\u001b[0m\u001b[1;33m\u001b[0m\u001b[0m\n\u001b[0m\u001b[0;32m    578\u001b[0m     \u001b[1;32mreturn\u001b[0m \u001b[0my\u001b[0m\u001b[1;33m\u001b[0m\u001b[0m\n",
      "\u001b[1;32m~\\Anaconda3\\lib\\site-packages\\chainer\\function_node.py\u001b[0m in \u001b[0;36mapply\u001b[1;34m(self, inputs)\u001b[0m\n\u001b[0;32m    256\u001b[0m             \u001b[0mself\u001b[0m\u001b[1;33m.\u001b[0m\u001b[0m_input_indexes_to_retain\u001b[0m \u001b[1;33m=\u001b[0m \u001b[1;32mNone\u001b[0m\u001b[1;33m\u001b[0m\u001b[0m\n\u001b[0;32m    257\u001b[0m             \u001b[0mself\u001b[0m\u001b[1;33m.\u001b[0m\u001b[0m_output_indexes_to_retain\u001b[0m \u001b[1;33m=\u001b[0m \u001b[1;32mNone\u001b[0m\u001b[1;33m\u001b[0m\u001b[0m\n\u001b[1;32m--> 258\u001b[1;33m             \u001b[0moutputs\u001b[0m \u001b[1;33m=\u001b[0m \u001b[0mself\u001b[0m\u001b[1;33m.\u001b[0m\u001b[0mforward\u001b[0m\u001b[1;33m(\u001b[0m\u001b[0min_data\u001b[0m\u001b[1;33m)\u001b[0m\u001b[1;33m\u001b[0m\u001b[0m\n\u001b[0m\u001b[0;32m    259\u001b[0m \u001b[1;33m\u001b[0m\u001b[0m\n\u001b[0;32m    260\u001b[0m         \u001b[1;31m# Check for output array types\u001b[0m\u001b[1;33m\u001b[0m\u001b[1;33m\u001b[0m\u001b[0m\n",
      "\u001b[1;32m~\\Anaconda3\\lib\\site-packages\\chainer\\function_node.py\u001b[0m in \u001b[0;36mforward\u001b[1;34m(self, inputs)\u001b[0m\n\u001b[0;32m    366\u001b[0m         \u001b[1;32mif\u001b[0m \u001b[0misinstance\u001b[0m\u001b[1;33m(\u001b[0m\u001b[0minputs\u001b[0m\u001b[1;33m[\u001b[0m\u001b[1;36m0\u001b[0m\u001b[1;33m]\u001b[0m\u001b[1;33m,\u001b[0m \u001b[0mcuda\u001b[0m\u001b[1;33m.\u001b[0m\u001b[0mndarray\u001b[0m\u001b[1;33m)\u001b[0m\u001b[1;33m:\u001b[0m\u001b[1;33m\u001b[0m\u001b[0m\n\u001b[0;32m    367\u001b[0m             \u001b[1;32mreturn\u001b[0m \u001b[0mself\u001b[0m\u001b[1;33m.\u001b[0m\u001b[0mforward_gpu\u001b[0m\u001b[1;33m(\u001b[0m\u001b[0minputs\u001b[0m\u001b[1;33m)\u001b[0m\u001b[1;33m\u001b[0m\u001b[0m\n\u001b[1;32m--> 368\u001b[1;33m         \u001b[1;32mreturn\u001b[0m \u001b[0mself\u001b[0m\u001b[1;33m.\u001b[0m\u001b[0mforward_cpu\u001b[0m\u001b[1;33m(\u001b[0m\u001b[0minputs\u001b[0m\u001b[1;33m)\u001b[0m\u001b[1;33m\u001b[0m\u001b[0m\n\u001b[0m\u001b[0;32m    369\u001b[0m \u001b[1;33m\u001b[0m\u001b[0m\n\u001b[0;32m    370\u001b[0m     \u001b[1;32mdef\u001b[0m \u001b[0mforward_cpu\u001b[0m\u001b[1;33m(\u001b[0m\u001b[0mself\u001b[0m\u001b[1;33m,\u001b[0m \u001b[0minputs\u001b[0m\u001b[1;33m)\u001b[0m\u001b[1;33m:\u001b[0m\u001b[1;33m\u001b[0m\u001b[0m\n",
      "\u001b[1;32m~\\Anaconda3\\lib\\site-packages\\chainer\\functions\\connection\\convolution_2d.py\u001b[0m in \u001b[0;36mforward_cpu\u001b[1;34m(self, inputs)\u001b[0m\n\u001b[0;32m    100\u001b[0m             \u001b[1;32mreturn\u001b[0m \u001b[0mself\u001b[0m\u001b[1;33m.\u001b[0m\u001b[0m_forward_grouped_convolution\u001b[0m\u001b[1;33m(\u001b[0m\u001b[0mx\u001b[0m\u001b[1;33m,\u001b[0m \u001b[0mW\u001b[0m\u001b[1;33m,\u001b[0m \u001b[0mb\u001b[0m\u001b[1;33m)\u001b[0m\u001b[1;33m\u001b[0m\u001b[0m\n\u001b[0;32m    101\u001b[0m         \u001b[1;32melse\u001b[0m\u001b[1;33m:\u001b[0m\u001b[1;33m\u001b[0m\u001b[0m\n\u001b[1;32m--> 102\u001b[1;33m             \u001b[1;32mreturn\u001b[0m \u001b[0mself\u001b[0m\u001b[1;33m.\u001b[0m\u001b[0m_forward_cpu_core\u001b[0m\u001b[1;33m(\u001b[0m\u001b[0mx\u001b[0m\u001b[1;33m,\u001b[0m \u001b[0mW\u001b[0m\u001b[1;33m,\u001b[0m \u001b[0mb\u001b[0m\u001b[1;33m)\u001b[0m\u001b[1;33m\u001b[0m\u001b[0m\n\u001b[0m\u001b[0;32m    103\u001b[0m \u001b[1;33m\u001b[0m\u001b[0m\n\u001b[0;32m    104\u001b[0m     \u001b[1;32mdef\u001b[0m \u001b[0m_forward_cpu_core\u001b[0m\u001b[1;33m(\u001b[0m\u001b[0mself\u001b[0m\u001b[1;33m,\u001b[0m \u001b[0mx\u001b[0m\u001b[1;33m,\u001b[0m \u001b[0mW\u001b[0m\u001b[1;33m,\u001b[0m \u001b[0mb\u001b[0m\u001b[1;33m)\u001b[0m\u001b[1;33m:\u001b[0m\u001b[1;33m\u001b[0m\u001b[0m\n",
      "\u001b[1;32m~\\Anaconda3\\lib\\site-packages\\chainer\\functions\\connection\\convolution_2d.py\u001b[0m in \u001b[0;36m_forward_cpu_core\u001b[1;34m(self, x, W, b)\u001b[0m\n\u001b[0;32m    106\u001b[0m         col = conv.im2col_cpu(\n\u001b[0;32m    107\u001b[0m             \u001b[0mx\u001b[0m\u001b[1;33m,\u001b[0m \u001b[0mkh\u001b[0m\u001b[1;33m,\u001b[0m \u001b[0mkw\u001b[0m\u001b[1;33m,\u001b[0m \u001b[0mself\u001b[0m\u001b[1;33m.\u001b[0m\u001b[0msy\u001b[0m\u001b[1;33m,\u001b[0m \u001b[0mself\u001b[0m\u001b[1;33m.\u001b[0m\u001b[0msx\u001b[0m\u001b[1;33m,\u001b[0m \u001b[0mself\u001b[0m\u001b[1;33m.\u001b[0m\u001b[0mph\u001b[0m\u001b[1;33m,\u001b[0m \u001b[0mself\u001b[0m\u001b[1;33m.\u001b[0m\u001b[0mpw\u001b[0m\u001b[1;33m,\u001b[0m\u001b[1;33m\u001b[0m\u001b[0m\n\u001b[1;32m--> 108\u001b[1;33m             cover_all=self.cover_all, dy=self.dy, dx=self.dx)\n\u001b[0m\u001b[0;32m    109\u001b[0m         y = numpy.tensordot(\n\u001b[0;32m    110\u001b[0m             col, W, ((1, 2, 3), (1, 2, 3))).astype(x.dtype, copy=False)\n",
      "\u001b[1;32m~\\Anaconda3\\lib\\site-packages\\chainer\\utils\\conv.py\u001b[0m in \u001b[0;36mim2col_cpu\u001b[1;34m(img, kh, kw, sy, sx, ph, pw, pval, cover_all, dy, dx, out_h, out_w)\u001b[0m\n\u001b[0;32m     85\u001b[0m             \u001b[0midx\u001b[0m \u001b[1;33m=\u001b[0m \u001b[0mi\u001b[0m \u001b[1;33m*\u001b[0m \u001b[0mdx\u001b[0m\u001b[1;33m\u001b[0m\u001b[0m\n\u001b[0;32m     86\u001b[0m             \u001b[0mi_lim\u001b[0m \u001b[1;33m=\u001b[0m \u001b[0midx\u001b[0m \u001b[1;33m+\u001b[0m \u001b[0msx\u001b[0m \u001b[1;33m*\u001b[0m \u001b[0mout_w\u001b[0m\u001b[1;33m\u001b[0m\u001b[0m\n\u001b[1;32m---> 87\u001b[1;33m             \u001b[0mcol\u001b[0m\u001b[1;33m[\u001b[0m\u001b[1;33m:\u001b[0m\u001b[1;33m,\u001b[0m \u001b[1;33m:\u001b[0m\u001b[1;33m,\u001b[0m \u001b[0mj\u001b[0m\u001b[1;33m,\u001b[0m \u001b[0mi\u001b[0m\u001b[1;33m,\u001b[0m \u001b[1;33m:\u001b[0m\u001b[1;33m,\u001b[0m \u001b[1;33m:\u001b[0m\u001b[1;33m]\u001b[0m \u001b[1;33m=\u001b[0m \u001b[0mimg\u001b[0m\u001b[1;33m[\u001b[0m\u001b[1;33m:\u001b[0m\u001b[1;33m,\u001b[0m \u001b[1;33m:\u001b[0m\u001b[1;33m,\u001b[0m \u001b[0mjdy\u001b[0m\u001b[1;33m:\u001b[0m\u001b[0mj_lim\u001b[0m\u001b[1;33m:\u001b[0m\u001b[0msy\u001b[0m\u001b[1;33m,\u001b[0m \u001b[0midx\u001b[0m\u001b[1;33m:\u001b[0m\u001b[0mi_lim\u001b[0m\u001b[1;33m:\u001b[0m\u001b[0msx\u001b[0m\u001b[1;33m]\u001b[0m\u001b[1;33m\u001b[0m\u001b[0m\n\u001b[0m\u001b[0;32m     88\u001b[0m \u001b[1;33m\u001b[0m\u001b[0m\n\u001b[0;32m     89\u001b[0m     \u001b[1;32mreturn\u001b[0m \u001b[0mcol\u001b[0m\u001b[1;33m\u001b[0m\u001b[0m\n",
      "\u001b[1;31mKeyboardInterrupt\u001b[0m: "
     ]
    }
   ],
   "source": [
    "train()"
   ]
  },
  {
   "cell_type": "code",
   "execution_count": 58,
   "metadata": {
    "scrolled": false
   },
   "outputs": [
    {
     "data": {
      "text/plain": [
       "variable([[0.49377477],\n",
       "          [0.48071706],\n",
       "          [0.67757636],\n",
       "          [0.07900268],\n",
       "          [0.14918995],\n",
       "          [0.51163566],\n",
       "          [0.20375797],\n",
       "          [0.6071904 ],\n",
       "          [0.50590307],\n",
       "          [0.70900935],\n",
       "          [0.21331999],\n",
       "          [0.8724573 ],\n",
       "          [0.5203341 ],\n",
       "          [0.15140301],\n",
       "          [0.50248003],\n",
       "          [0.6672561 ],\n",
       "          [0.7558276 ],\n",
       "          [0.06742936],\n",
       "          [0.5814702 ],\n",
       "          [0.35230193],\n",
       "          [0.2636234 ],\n",
       "          [0.1104241 ],\n",
       "          [0.65618205],\n",
       "          [0.6456479 ],\n",
       "          [0.17895073],\n",
       "          [0.49548286],\n",
       "          [0.71476763],\n",
       "          [0.68162894],\n",
       "          [0.27497268],\n",
       "          [0.87704116],\n",
       "          [0.46291363],\n",
       "          [0.3266731 ],\n",
       "          [0.4282906 ],\n",
       "          [0.42889568],\n",
       "          [0.48864678],\n",
       "          [0.10695511],\n",
       "          [0.6900749 ],\n",
       "          [0.88779914],\n",
       "          [0.57001734],\n",
       "          [0.55827165],\n",
       "          [0.21440238],\n",
       "          [0.41403753],\n",
       "          [0.5075462 ],\n",
       "          [0.69865644],\n",
       "          [0.6039868 ],\n",
       "          [0.677858  ],\n",
       "          [0.441664  ],\n",
       "          [0.5318151 ],\n",
       "          [0.75480235],\n",
       "          [0.55061096],\n",
       "          [0.5777205 ],\n",
       "          [0.89762187],\n",
       "          [0.61684227],\n",
       "          [0.5413592 ],\n",
       "          [0.5140694 ],\n",
       "          [0.66927296],\n",
       "          [0.5861658 ],\n",
       "          [0.2255643 ],\n",
       "          [0.15729964],\n",
       "          [0.6565795 ],\n",
       "          [0.6878779 ],\n",
       "          [0.6201163 ],\n",
       "          [0.79213667],\n",
       "          [0.32404894]])"
      ]
     },
     "execution_count": 58,
     "metadata": {},
     "output_type": "execute_result"
    }
   ],
   "source": []
  },
  {
   "cell_type": "code",
   "execution_count": 73,
   "metadata": {},
   "outputs": [],
   "source": [
    "a, b = mnist.get_mnist()\n"
   ]
  },
  {
   "cell_type": "code",
   "execution_count": 77,
   "metadata": {},
   "outputs": [],
   "source": [
    "from chainer.dataset import concat_examples\n",
    "x, t = concat_examples(a)"
   ]
  },
  {
   "cell_type": "code",
   "execution_count": 91,
   "metadata": {},
   "outputs": [],
   "source": [
    "x = x.reshape(60000,1,28,28)\n",
    "t.shape\n",
    "t_1 = t[:32]"
   ]
  },
  {
   "cell_type": "code",
   "execution_count": 89,
   "metadata": {},
   "outputs": [],
   "source": [
    "y_1 = model_dis(x[:32])"
   ]
  },
  {
   "cell_type": "code",
   "execution_count": 97,
   "metadata": {},
   "outputs": [
    {
     "data": {
      "text/plain": [
       "variable(-1.1475618)"
      ]
     },
     "execution_count": 97,
     "metadata": {},
     "output_type": "execute_result"
    }
   ],
   "source": [
    "F.sigmoid_cross_entropy(y_1.reshape(32,), t_1)"
   ]
  },
  {
   "cell_type": "code",
   "execution_count": 152,
   "metadata": {
    "scrolled": true
   },
   "outputs": [],
   "source": [
    "noise = np.array([np.random.uniform(-1, 1, 100) for _ in range(batchsize)]).astype(np.float32)\n",
    "generated_images = model_gen(noise)\n",
    "y = model_dis(generated_images)\n",
    "loss = F.sigmoid_cross_entropy(y.reshape(batchsize,), Variable(np.zeros(batchsize).astype(np.int32)))"
   ]
  },
  {
   "cell_type": "code",
   "execution_count": 153,
   "metadata": {},
   "outputs": [
    {
     "name": "stdout",
     "output_type": "stream",
     "text": [
      "variable(0.9552179)\n"
     ]
    }
   ],
   "source": [
    "print(loss)"
   ]
  },
  {
   "cell_type": "code",
   "execution_count": null,
   "metadata": {},
   "outputs": [],
   "source": []
  }
 ],
 "metadata": {
  "kernelspec": {
   "display_name": "Python 3",
   "language": "python",
   "name": "python3"
  },
  "language_info": {
   "codemirror_mode": {
    "name": "ipython",
    "version": 3
   },
   "file_extension": ".py",
   "mimetype": "text/x-python",
   "name": "python",
   "nbconvert_exporter": "python",
   "pygments_lexer": "ipython3",
   "version": "3.6.4"
  }
 },
 "nbformat": 4,
 "nbformat_minor": 2
}
