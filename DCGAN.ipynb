{
 "cells": [
  {
   "cell_type": "code",
   "execution_count": 203,
   "metadata": {},
   "outputs": [],
   "source": [
    "# 取り敢えずmnistで試す（CPU上での実行を想定しているため）\n",
    "from chainer import Chain, Variable, optimizers, iterators, datasets, training\n",
    "from chainer.training import extensions\n",
    "from chainer.datasets import mnist\n",
    "import chainer.functions as F\n",
    "import chainer.links as L\n",
    "import chainer\n",
    "\n",
    "import numpy as np\n",
    "import matplotlib.pyplot as plt\n",
    "from PIL import Image\n",
    "import os"
   ]
  },
  {
   "cell_type": "code",
   "execution_count": 204,
   "metadata": {},
   "outputs": [
    {
     "data": {
      "image/png": "[encoded data removed]",
      "text/plain": [
       "<matplotlib.figure.Figure at 0x22f00a3cda0>"
      ]
     },
     "metadata": {},
     "output_type": "display_data"
    }
   ],
   "source": [
    "train, test = mnist.get_mnist(withlabel = False)\n",
    "train = (train - 127.5) / 127.5\n",
    "train = train.reshape(train.shape[0], 28, 28)\n",
    "plt.imshow(train[0], cmap = 'gray')\n",
    "batchsize = 64\n",
    "dis_itr = iterators.SerialIterator(train, batchsize)"
   ]
  },
  {
   "cell_type": "code",
   "execution_count": 205,
   "metadata": {},
   "outputs": [],
   "source": [
    "class Generator(Chain):\n",
    "    \n",
    "    def __init__(self):\n",
    "        super(Generator, self).__init__()\n",
    "        with self.init_scope():\n",
    "            self.fc1 = L.Linear(100, 1024)\n",
    "            self.fc2 = L.Linear(1024, 128 * 7 * 7)\n",
    "            self.dc3 = L.Deconvolution2D(128, 64, 4, 2, 1)\n",
    "            self.dc4 = L.Deconvolution2D(64, 1, 4, 2, 1)\n",
    "            \n",
    "            self.bn1 = L.BatchNormalization(1024)\n",
    "            self.bn2 = L.BatchNormalization(128 * 7 * 7)\n",
    "            self.bn3 = L.BatchNormalization((64, 14, 14))\n",
    "    def __call__(self, x):\n",
    "        h = F.relu(self.bn1(self.fc1(x)))\n",
    "        h = F.relu(self.bn2(self.fc2(h)))\n",
    "        h = F.reshape(h, (h.shape[0], 128, 7, 7))\n",
    "        h = F.relu(self.bn3(self.dc3(h)))\n",
    "        h = F.tanh(self.dc4(h))\n",
    "        return h"
   ]
  },
  {
   "cell_type": "code",
   "execution_count": 206,
   "metadata": {},
   "outputs": [],
   "source": [
    "class Discriminator(Chain):\n",
    "    \n",
    "    def __init__(self):\n",
    "        super(Discriminator, self).__init__()\n",
    "        with self.init_scope():\n",
    "            self.cv1 = L.Convolution2D(1, 64, 5, 2)\n",
    "            self.cv2 = L.Convolution2D(64, 128, 5, 2)\n",
    "            self.fc3 = L.Linear(None, 256)\n",
    "            self.fc4 = L.Linear(256, 1)\n",
    "            \n",
    "            self.bn1 = L.BatchNormalization((64, 12, 12))\n",
    "            self.bn2 = L.BatchNormalization((128, 4, 4))\n",
    "            self.bn3 = L.BatchNormalization(256)\n",
    "    def __call__(self, x):\n",
    "        h = F.leaky_relu(self.bn1(self.cv1(x)), 0.2)\n",
    "        h = F.leaky_relu(self.bn2(self.cv2(h)), 0.2)\n",
    "        h = F.leaky_relu(self.bn3(self.fc3(h)), 0.2)\n",
    "        h = F.dropout(h, 0.5)\n",
    "        h = F.sigmoid(self.fc4(h))\n",
    "        return h"
   ]
  },
  {
   "cell_type": "code",
   "execution_count": 207,
   "metadata": {},
   "outputs": [
    {
     "data": {
      "text/plain": [
       "<chainer.optimizers.adam.Adam at 0x22f2fa2c8d0>"
      ]
     },
     "execution_count": 207,
     "metadata": {},
     "output_type": "execute_result"
    }
   ],
   "source": [
    "model_gen = Generator()\n",
    "model_dis = Discriminator()\n",
    "opt_gen = optimizers.Adam(alpha = 2e-4, beta1 = 0.5)\n",
    "opt_dis = optimizers.Adam(alpha = 2e-4, beta1 = 0.5)\n",
    "opt_gen.setup(model_gen)\n",
    "opt_dis.setup(model_dis)"
   ]
  },
  {
   "cell_type": "code",
   "execution_count": 208,
   "metadata": {},
   "outputs": [],
   "source": [
    "max_epoch = 10\n",
    "\n",
    "GENERATED_IMAGE_PATH = 'generated_images/'\n",
    "if not os.path.exists(GENERATED_IMAGE_PATH):\n",
    "    os.mkdir(GENERATED_IMAGE_PATH)"
   ]
  },
  {
   "cell_type": "code",
   "execution_count": 209,
   "metadata": {},
   "outputs": [],
   "source": [
    "def train():\n",
    "    while dis_itr.epoch < max_epoch:\n",
    "        real_images = np.array(dis_itr.next()).reshape(batchsize, 1, 28, 28)\n",
    "        y = model_dis(real_images)\n",
    "        loss = -F.sigmoid_cross_entropy(y.reshape(batchsize,), Variable(np.ones(batchsize).astype(np.int32)))\n",
    "        model_dis.cleargrads()\n",
    "        loss.backward()\n",
    "        opt_dis.update()\n",
    "        \n",
    "        noise = np.array([np.random.uniform(-1, 1, 100) for _ in range(batchsize)]).astype(np.float32)\n",
    "        generated_images = model_gen(noise)\n",
    "        y = model_dis(generated_images)\n",
    "        loss = -F.sigmoid_cross_entropy(y.reshape(batchsize,), Variable(np.zeros(batchsize).astype(np.int32)))\n",
    "        model_dis.cleargrads()\n",
    "        loss.backward()\n",
    "        opt_dis.update()\n",
    "        \n",
    "        noise = np.array([np.random.uniform(-1, 1, 100) for _ in range(batchsize)]).astype(np.float32)\n",
    "        y = model_dis(model_gen(noise))\n",
    "        loss = -F.sigmoid_cross_entropy(y.reshape(batchsize,), Variable(np.ones(batchsize).astype(np.int32)))\n",
    "        model_gen.cleargrads()\n",
    "        loss.backward()\n",
    "        opt_gen.update()\n",
    "        \n",
    "        if dis_itr.is_new_epoch:\n",
    "            print(\"epoch:\", dis_itr.epoch)\n",
    "            for n,image in enumerate(generated_images):\n",
    "                image = image*127.5 + 127.5\n",
    "                Image.fromarray(image.astype(np.uint8).reshape(SIZE,SIZE,CHANNEL)) \\\n",
    "                                                      .save(GENERATED_IMAGE_PATH+\"%03d_%03d.png\" % (epoch, n))"
   ]
  },
  {
   "cell_type": "code",
   "execution_count": null,
   "metadata": {},
   "outputs": [],
   "source": [
    "train()"
   ]
  },
  {
   "cell_type": "code",
   "execution_count": 58,
   "metadata": {},
   "outputs": [
    {
     "data": {
      "text/plain": [
       "variable([[0.49377477],\n",
       "          [0.48071706],\n",
       "          [0.67757636],\n",
       "          [0.07900268],\n",
       "          [0.14918995],\n",
       "          [0.51163566],\n",
       "          [0.20375797],\n",
       "          [0.6071904 ],\n",
       "          [0.50590307],\n",
       "          [0.70900935],\n",
       "          [0.21331999],\n",
       "          [0.8724573 ],\n",
       "          [0.5203341 ],\n",
       "          [0.15140301],\n",
       "          [0.50248003],\n",
       "          [0.6672561 ],\n",
       "          [0.7558276 ],\n",
       "          [0.06742936],\n",
       "          [0.5814702 ],\n",
       "          [0.35230193],\n",
       "          [0.2636234 ],\n",
       "          [0.1104241 ],\n",
       "          [0.65618205],\n",
       "          [0.6456479 ],\n",
       "          [0.17895073],\n",
       "          [0.49548286],\n",
       "          [0.71476763],\n",
       "          [0.68162894],\n",
       "          [0.27497268],\n",
       "          [0.87704116],\n",
       "          [0.46291363],\n",
       "          [0.3266731 ],\n",
       "          [0.4282906 ],\n",
       "          [0.42889568],\n",
       "          [0.48864678],\n",
       "          [0.10695511],\n",
       "          [0.6900749 ],\n",
       "          [0.88779914],\n",
       "          [0.57001734],\n",
       "          [0.55827165],\n",
       "          [0.21440238],\n",
       "          [0.41403753],\n",
       "          [0.5075462 ],\n",
       "          [0.69865644],\n",
       "          [0.6039868 ],\n",
       "          [0.677858  ],\n",
       "          [0.441664  ],\n",
       "          [0.5318151 ],\n",
       "          [0.75480235],\n",
       "          [0.55061096],\n",
       "          [0.5777205 ],\n",
       "          [0.89762187],\n",
       "          [0.61684227],\n",
       "          [0.5413592 ],\n",
       "          [0.5140694 ],\n",
       "          [0.66927296],\n",
       "          [0.5861658 ],\n",
       "          [0.2255643 ],\n",
       "          [0.15729964],\n",
       "          [0.6565795 ],\n",
       "          [0.6878779 ],\n",
       "          [0.6201163 ],\n",
       "          [0.79213667],\n",
       "          [0.32404894]])"
      ]
     },
     "execution_count": 58,
     "metadata": {},
     "output_type": "execute_result"
    }
   ],
   "source": []
  },
  {
   "cell_type": "code",
   "execution_count": 73,
   "metadata": {},
   "outputs": [],
   "source": [
    "a, b = mnist.get_mnist()\n"
   ]
  },
  {
   "cell_type": "code",
   "execution_count": 77,
   "metadata": {},
   "outputs": [],
   "source": [
    "from chainer.dataset import concat_examples\n",
    "x, t = concat_examples(a)"
   ]
  },
  {
   "cell_type": "code",
   "execution_count": 91,
   "metadata": {},
   "outputs": [],
   "source": [
    "x = x.reshape(60000,1,28,28)\n",
    "t.shape\n",
    "t_1 = t[:32]"
   ]
  },
  {
   "cell_type": "code",
   "execution_count": 89,
   "metadata": {},
   "outputs": [],
   "source": [
    "y_1 = model_dis(x[:32])"
   ]
  },
  {
   "cell_type": "code",
   "execution_count": 97,
   "metadata": {},
   "outputs": [
    {
     "data": {
      "text/plain": [
       "variable(-1.1475618)"
      ]
     },
     "execution_count": 97,
     "metadata": {},
     "output_type": "execute_result"
    }
   ],
   "source": [
    "F.sigmoid_cross_entropy(y_1.reshape(32,), t_1)"
   ]
  },
  {
   "cell_type": "code",
   "execution_count": 152,
   "metadata": {
    "scrolled": true
   },
   "outputs": [],
   "source": [
    "noise = np.array([np.random.uniform(-1, 1, 100) for _ in range(batchsize)]).astype(np.float32)\n",
    "generated_images = model_gen(noise)\n",
    "y = model_dis(generated_images)\n",
    "loss = F.sigmoid_cross_entropy(y.reshape(batchsize,), Variable(np.zeros(batchsize).astype(np.int32)))"
   ]
  },
  {
   "cell_type": "code",
   "execution_count": 153,
   "metadata": {},
   "outputs": [
    {
     "name": "stdout",
     "output_type": "stream",
     "text": [
      "variable(0.9552179)\n"
     ]
    }
   ],
   "source": [
    "print(loss)"
   ]
  },
  {
   "cell_type": "code",
   "execution_count": null,
   "metadata": {},
   "outputs": [],
   "source": []
  }
 ],
 "metadata": {
  "kernelspec": {
   "display_name": "Python 3",
   "language": "python",
   "name": "python3"
  },
  "language_info": {
   "codemirror_mode": {
    "name": "ipython",
    "version": 3
   },
   "file_extension": ".py",
   "mimetype": "text/x-python",
   "name": "python",
   "nbconvert_exporter": "python",
   "pygments_lexer": "ipython3",
   "version": "3.6.4"
  }
 },
 "nbformat": 4,
 "nbformat_minor": 2
}
